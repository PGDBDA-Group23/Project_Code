{
 "cells": [
  {
   "cell_type": "code",
   "execution_count": null,
   "metadata": {},
   "outputs": [],
   "source": [
    "#importing modules\n",
    "from pyspark.sql.functions import lit"
   ]
  },
  {
   "cell_type": "code",
   "execution_count": null,
   "metadata": {},
   "outputs": [],
   "source": [
    "# Read Data from s3 and make dataframes\n",
    "df19 = spark.read.csv(\"s3://project-group23/survey_data/2019-survey-results-public.csv\",header=True);\n",
    "df20 = spark.read.csv(\"s3://project-group23/survey_data/2020-survey-results-public.csv\",header=True);\n",
    "df21 = spark.read.csv(\"s3://project-group23/survey_data/2021-survey-results-public.csv\",header=True);\n",
    "df22 = spark.read.csv(\"s3://project-group23/survey_data/2022-survey-results-public.csv\",header=True);"
   ]
  },
  {
   "cell_type": "code",
   "execution_count": null,
   "metadata": {},
   "outputs": [],
   "source": [
    "#selected columns on which we are going to use for PowerBI\n",
    "survey_2019_DF = df19[[\"Respondent\",\"Country\",\"MainBranch\",\"Gender\",\"Age\",\"DevType\",\"Employment\",\"EdLevel\",\"YearsCode\",\"YearsCodePro\",\"LanguageWorkedWith\",\"LanguageDesireNextYear\",\"DatabaseWorkedWith\",\"DatabaseDesireNextYear\",\"PlatformWorkedWith\",\"PlatformDesireNextYear\",\"WebframeWorkedWith\",\"WebframeDesireNextYear\",\"MiscTechWorkedWith\",\"MiscTechDesireNextYear\",\"OpSys\",\"ConvertedComp\"]]\n",
    "survey_2020_DF = df20[[\"Respondent\",\"Country\",\"MainBranch\",\"Gender\",\"Age\",\"DevType\",\"Employment\",\"EdLevel\",\"YearsCode\",\"YearsCodePro\",\"LanguageWorkedWith\",\"LanguageDesireNextYear\",\"DatabaseWorkedWith\",\"DatabaseDesireNextYear\",\"PlatformWorkedWith\",\"PlatformDesireNextYear\",\"WebframeWorkedWith\",\"WebframeDesireNextYear\",\"MiscTechWorkedWith\",\"MiscTechDesireNextYear\",\"NEWCollabToolsWorkedWith\",\"NEWCollabToolsDesireNextYear\",\"OpSys\",\"ConvertedComp\"]]\n",
    "survey_2021_DF = df21[[\"ResponseId\",\"Country\",\"MainBranch\",\"Gender\",\"Age\",\"DevType\",\"Employment\",\"EdLevel\",\"LearnCode\",\"YearsCode\",\"YearsCodePro\",\"LanguageHaveWorkedWith\",\"LanguageWantToWorkWith\",\"DatabaseHaveWorkedWith\",\"DatabaseWantToWorkWith\",\"PlatformHaveWorkedWith\",\"PlatformWantToWorkWith\",\"WebframeHaveWorkedWith\",\"WebframeWantToWorkWith\",\"MiscTechHaveWorkedWith\",\"MiscTechWantToWorkWith\",\"ToolsTechHaveWorkedWith\",\"ToolsTechWantToWorkWith\",\"NEWCollabToolsHaveWorkedWith\",\"NEWCollabToolsWantToWorkWith\",\"OpSys\",\"MentalHealth\",\"ConvertedCompYearly\"]]\n",
    "survey_2022_DF = df22[[\"ResponseId\",\"Country\",\"MainBranch\",\"Gender\",\"Age\",\"DevType\",\"Employment\",\"EdLevel\",\"LearnCode\",\"YearsCode\",\"YearsCodePro\",\"LanguageHaveWorkedWith\",\"LanguageWantToWorkWith\",\"DatabaseHaveWorkedWith\",\"DatabaseWantToWorkWith\",\"PlatformHaveWorkedWith\",\"PlatformWantToWorkWith\",\"WebframeHaveWorkedWith\",\"WebframeWantToWorkWith\",\"MiscTechHaveWorkedWith\",\"MiscTechWantToWorkWith\",\"ToolsTechHaveWorkedWith\",\"ToolsTechWantToWorkWith\",\"NEWCollabToolsHaveWorkedWith\",\"NEWCollabToolsWantToWorkWith\",\"OpSysProfessional use\",\"MentalHealth\",\"ConvertedCompYearly\"]]"
   ]
  },
  {
   "cell_type": "code",
   "execution_count": null,
   "metadata": {},
   "outputs": [],
   "source": [
    "#adding extra columns which are not present in some years \n",
    "survey_2019_DF = survey_2019_DF.withColumn(\"NEWCollabToolsHaveWorkedWith\", lit(\"Not Mentioned\")) \n",
    "survey_2019_DF = survey_2019_DF.withColumn(\"NEWCollabToolsWantToWorkWith\", lit(\"Not Mentioned\"))\n",
    "survey_2019_DF = survey_2019_DF.withColumn(\"ToolsTechHaveWorkedWith\", lit(\"Not Mentioned\"))\n",
    "survey_2019_DF = survey_2019_DF.withColumn(\"ToolsTechWantToWorkWith\", lit(\"Not Mentioned\"))\n",
    "survey_2019_DF = survey_2019_DF.withColumn(\"MentalHealth\", lit(\"Not Mentioned\")) \n",
    "survey_2019_DF = survey_2019_DF.withColumn(\"LearnCode\", lit(\"Not Mentioned\"))"
   ]
  },
  {
   "cell_type": "code",
   "execution_count": null,
   "metadata": {},
   "outputs": [],
   "source": [
    "survey_2020_DF = survey_2020_DF.withColumn(\"ToolsTechHaveWorkedWith\", lit(\"Not Mentioned\"))\n",
    "survey_2020_DF = survey_2020_DF.withColumn(\"ToolsTechWantToWorkWith\", lit(\"Not Mentioned\"))\n",
    "survey_2020_DF = survey_2020_DF.withColumn(\"MentalHealth\", lit(\"Not Mentioned\")) \n",
    "survey_2020_DF = survey_2020_DF.withColumn(\"LearnCode\", lit(\"Not Mentioned\"))"
   ]
  },
  {
   "cell_type": "code",
   "execution_count": null,
   "metadata": {},
   "outputs": [],
   "source": [
    "survey_2019_DF = survey_2019_DF.withColumnRenamed(\"Respondent\",\"ResponseId\")\n",
    "survey_2019_DF = survey_2019_DF.withColumnRenamed(\"LanguageWorkedWith\",\"LanguageHaveWorkedWith\")\n",
    "survey_2019_DF = survey_2019_DF.withColumnRenamed(\"LanguageDesireNextYear\",\"LanguageWantToWorkWith\")\n",
    "survey_2019_DF = survey_2019_DF.withColumnRenamed(\"DatabaseWorkedWith\",\"DatabaseHaveWorkedWith\")\n",
    "survey_2019_DF = survey_2019_DF.withColumnRenamed(\"DatabaseDesireNextYear\",\"DatabaseWantToWorkWith\")\n",
    "survey_2019_DF = survey_2019_DF.withColumnRenamed(\"PlatformWorkedWith\",\"PlatformHaveWorkedWith\")\n",
    "survey_2019_DF = survey_2019_DF.withColumnRenamed(\"PlatformDesireNextYear\",\"PlatformWantToWorkWith\")\n",
    "survey_2019_DF = survey_2019_DF.withColumnRenamed(\"WebframeWorkedWith\",\"WebframeHaveWorkedWith\")\n",
    "survey_2019_DF = survey_2019_DF.withColumnRenamed(\"WebframeDesireNextYear\",\"WebframeWantToWorkWith\")\n",
    "survey_2019_DF = survey_2019_DF.withColumnRenamed(\"MiscTechWorkedWith\",\"MiscTechHaveWorkedWith\")\n",
    "survey_2019_DF = survey_2019_DF.withColumnRenamed(\"MiscTechDesireNextYear\",\"MiscTechWantToWorkWith\")\n",
    "survey_2019_DF = survey_2019_DF.withColumnRenamed(\"ConvertedComp\",\"ConvertedCompYearly\")"
   ]
  },
  {
   "cell_type": "code",
   "execution_count": null,
   "metadata": {},
   "outputs": [],
   "source": [
    "survey_2020_DF = survey_2020_DF.withColumnRenamed(\"Respondent\",\"ResponseId\")\n",
    "survey_2020_DF = survey_2020_DF.withColumnRenamed(\"LanguageWorkedWith\",\"LanguageHaveWorkedWith\")\n",
    "survey_2020_DF = survey_2020_DF.withColumnRenamed(\"LanguageDesireNextYear\",\"LanguageWantToWorkWith\")\n",
    "survey_2020_DF = survey_2020_DF.withColumnRenamed(\"DatabaseWorkedWith\",\"DatabaseHaveWorkedWith\")\n",
    "survey_2020_DF = survey_2020_DF.withColumnRenamed(\"DatabaseDesireNextYear\",\"DatabaseWantToWorkWith\")\n",
    "survey_2020_DF = survey_2020_DF.withColumnRenamed(\"PlatformWorkedWith\",\"PlatformHaveWorkedWith\")\n",
    "survey_2020_DF = survey_2020_DF.withColumnRenamed(\"PlatformDesireNextYear\",\"PlatformWantToWorkWith\")\n",
    "survey_2020_DF = survey_2020_DF.withColumnRenamed(\"WebframeWorkedWith\",\"WebframeHaveWorkedWith\")\n",
    "survey_2020_DF = survey_2020_DF.withColumnRenamed(\"WebframeDesireNextYear\",\"WebframeWantToWorkWith\")\n",
    "survey_2020_DF = survey_2020_DF.withColumnRenamed(\"MiscTechWorkedWith\",\"MiscTechHaveWorkedWith\")\n",
    "survey_2020_DF = survey_2020_DF.withColumnRenamed(\"MiscTechDesireNextYear\",\"MiscTechWantToWorkWith\")\n",
    "survey_2020_DF = survey_2020_DF.withColumnRenamed(\"NEWCollabToolsWorkedWith\",\"NEWCollabToolsHaveWorkedWith\")\n",
    "survey_2020_DF = survey_2020_DF.withColumnRenamed(\"NEWCollabToolsDesireNextYear\",\"NEWCollabToolsWantToWorkWith\")\n",
    "survey_2020_DF = survey_2020_DF.withColumnRenamed(\"ConvertedComp\",\"ConvertedCompYearly\")"
   ]
  },
  {
   "cell_type": "code",
   "execution_count": null,
   "metadata": {},
   "outputs": [],
   "source": [
    "survey_2022_DF=survey_2022_DF.withColumnRenamed(\"opSysProfessional use\",\"OpSys\")"
   ]
  },
  {
   "cell_type": "code",
   "execution_count": null,
   "metadata": {},
   "outputs": [],
   "source": [
    "#Adding year column for distinguishing dataframes\n",
    "survey_2022_DF=survey_2022_DF.withColumn(\"Year\", lit(2022))\n",
    "survey_2021_DF=survey_2021_DF.withColumn(\"Year\", lit(2021))\n",
    "survey_2020_DF=survey_2020_DF.withColumn(\"Year\", lit(2020))\n",
    "survey_2019_DF=survey_2019_DF.withColumn(\"Year\", lit(2019))"
   ]
  },
  {
   "cell_type": "code",
   "execution_count": null,
   "metadata": {},
   "outputs": [],
   "source": [
    "#\n",
    "survey_2022_DF.coalesce(1).write.csv(\"s3://project-group23/Result/survey_2022_DF.csv\")\n",
    "survey_2021_DF.coalesce(1).write.csv(\"s3://project-group23/Result/survey_2021_DF.csv\")\n",
    "survey_2020_DF.coalesce(1).write.csv(\"s3://project-group23/Result/survey_2020_DF.csv\")\n",
    "survey_2019_DF.coalesce(1).write.csv(\"s3://project-group23/Result/survey_2019_DF.csv\")"
   ]
  },
  {
   "cell_type": "code",
   "execution_count": null,
   "metadata": {},
   "outputs": [],
   "source": [
    "#Read Data from CSV's\n",
    "\n",
    "df_2019=spark.read.csv(\"s3://project-group23/Result/survey_2019_DF.csv/part-00000-46077930-7fcb-4e1b-9c1d-bb9af932a590-c000.csv\",header=True)\n",
    "df_2020=spark.read.csv(\"s3://project-group23/Result/survey_2020_DF.csv/part-00000-6943b734-1347-435b-bb1b-eb9e6d6ca5b4-c000.csv\",header=True)\n",
    "df_2021=spark.read.csv(\"s3://project-group23/Result/survey_2021_DF.csv/part-00000-581202ab-b440-47e1-acd9-e8826caee472-c000.csv\",header=True)\n",
    "df_2022=spark.read.csv(\"s3://project-group23/Result/survey_2022_DF.csv/part-00000-63e4718a-7b0e-4967-857c-89cbb9595e8f-c000.csv\",header=True)"
   ]
  },
  {
   "cell_type": "code",
   "execution_count": null,
   "metadata": {},
   "outputs": [],
   "source": [
    "# Sorting columns\n",
    "df_2019 = df_2019.select(sorted(df_2019.columns))\n",
    "df_2020 = df_2020.select(sorted(df_2020.columns))\n",
    "df_2021 = df_2021.select(sorted(df_2021.columns))\n",
    "df_2022 = df_2022.select(sorted(df_2022.columns))"
   ]
  },
  {
   "cell_type": "code",
   "execution_count": null,
   "metadata": {},
   "outputs": [],
   "source": [
    "#Rearranging columns\n",
    "df_2019=df_2019.select(df_2019.columns[26],df_2019.columns[21],df_2019.columns[8],df_2019.columns[0],df_2019.columns[6],df_2019.columns[12],df_2019.columns[2],df_2019.columns[7],df_2019.columns[5],df_2019.columns[11],df_2019.columns[27],df_2019.columns[28],df_2019.columns[3],df_2019.columns[4],df_2019.columns[9],df_2019.columns[10],df_2019.columns[14],df_2019.columns[15],df_2019.columns[16],df_2019.columns[17],df_2019.columns[19],df_2019.columns[20],df_2019.columns[22],df_2019.columns[23],df_2019.columns[24],df_2019.columns[25],df_2019.columns[18],df_2019.columns[13],df_2019.columns[1])\n",
    "df_2020=df_2020.select(df_2020.columns[26],df_2020.columns[21],df_2020.columns[8],df_2020.columns[0],df_2020.columns[6],df_2020.columns[12],df_2020.columns[2],df_2020.columns[7],df_2020.columns[5],df_2020.columns[11],df_2020.columns[27],df_2020.columns[28],df_2020.columns[3],df_2020.columns[4],df_2020.columns[9],df_2020.columns[10],df_2020.columns[14],df_2020.columns[15],df_2020.columns[16],df_2020.columns[17],df_2020.columns[19],df_2020.columns[20],df_2020.columns[22],df_2020.columns[23],df_2020.columns[24],df_2020.columns[25],df_2020.columns[18],df_2020.columns[13],df_2020.columns[1])\n",
    "df_2021=df_2021.select(df_2021.columns[26],df_2021.columns[21],df_2021.columns[8],df_2021.columns[0],df_2021.columns[6],df_2021.columns[12],df_2021.columns[2],df_2021.columns[7],df_2021.columns[5],df_2021.columns[11],df_2021.columns[27],df_2021.columns[28],df_2021.columns[3],df_2021.columns[4],df_2021.columns[9],df_2021.columns[10],df_2021.columns[14],df_2021.columns[15],df_2021.columns[16],df_2021.columns[17],df_2021.columns[19],df_2021.columns[20],df_2021.columns[22],df_2021.columns[23],df_2021.columns[24],df_2021.columns[25],df_2021.columns[18],df_2021.columns[13],df_2021.columns[1])\n",
    "df_2022=df_2022.select(df_2022.columns[26],df_2022.columns[21],df_2022.columns[8],df_2022.columns[0],df_2022.columns[6],df_2022.columns[12],df_2022.columns[2],df_2022.columns[7],df_2022.columns[5],df_2022.columns[11],df_2022.columns[27],df_2022.columns[28],df_2022.columns[3],df_2022.columns[4],df_2022.columns[9],df_2022.columns[10],df_2022.columns[14],df_2022.columns[15],df_2022.columns[16],df_2022.columns[17],df_2022.columns[19],df_2022.columns[20],df_2022.columns[22],df_2022.columns[23],df_2022.columns[24],df_2022.columns[25],df_2022.columns[18],df_2022.columns[13],df_2022.columns[1])"
   ]
  },
  {
   "cell_type": "code",
   "execution_count": null,
   "metadata": {},
   "outputs": [],
   "source": [
    "#To Merge DFs to single DF\n",
    "import functools \n",
    "from pyspark.sql import DataFrame\n",
    "\n",
    "def unionAll(*dfs):\n",
    "    return functools.reduce(DataFrame.unionAll, dfs)\n",
    "\n",
    "Stack_DF = unionAll(df_2019,df_2020,df_2021,df_2022)\n",
    "# Stack_DF.show()"
   ]
  },
  {
   "cell_type": "code",
   "execution_count": null,
   "metadata": {},
   "outputs": [],
   "source": [
    "from pyspark.sql.functions import regexp_replace\n",
    "from pyspark.sql.functions import split, col\n",
    "\n",
    "Stack_DF = Stack_DF.withColumn('Country', regexp_replace('Country', 'United Kingdom of Great Britain and Northern Ireland', 'United Kingdom'))\n"
   ]
  },
  {
   "cell_type": "code",
   "execution_count": null,
   "metadata": {},
   "outputs": [],
   "source": [
    "#Age\n",
    "Stack_DF=Stack_DF.na.replace(['1','2','3','4','5','6','7','8','9','10','11','12','13','13.5','14','14.1','14.5','14.7','15','15.5','16','16.5','16.9','17.3','17.5','18','19','19.5','19.8','19.9','20.5','20.9','21.5','22.5','23.4','23.5','23.8','23.9','20','21','22','23','24','24.5','24.8','26.3','26.5','26.8','27.5','28.5','29.5','30.8','31.4','31.5','32.5','32.8','33.5','33.6','25','26','27','28','29','30','31','32','33','34','17','34.5','35.7','36.8','37.3','37.5','38.5','39.5','43.5','35','36','37','38','39','40','41','42','43','44','46.5','49.5','53.8','45','46','47','48','49','50','51','52','53','54','57.9','61.3','55','56','57','58','59','60','61','62','63','64','65','66','67','68','69','70','71','72','73','74','75','76','77','78','79','80','81','82','83','84','85','86','87','88','89','90','91','92','93','94','95','96','97','98','98.9','99','279','Under 18 years old','Other'],['Less than 18 years old','Less than 18 years old','Less than 18 years old','Less than 18 years old','Less than 18 years old','Less than 18 years old','Less than 18 years old','Less than 18 years old','Less than 18 years old','Less than 18 years old','Less than 18 years old','Less than 18 years old','Less than 18 years old','Less than 18 years old','Less than 18 years old','Less than 18 years old','Less than 18 years old','Less than 18 years old','Less than 18 years old','Less than 18 years old','Less than 18 years old','Less than 18 years old','Less than 18 years old','Less than 18 years old','Less than 18 years old','18-24 years old','18-24 years old','18-24 years old','18-24 years old','18-24 years old','18-24 years old','18-24 years old','18-24 years old','18-24 years old','18-24 years old','18-24 years old','18-24 years old','18-24 years old','18-24 years old','18-24 years old','18-24 years old','18-24 years old','18-24 years old','25-34 years old','25-34 years old','25-34 years old','25-34 years old','25-34 years old','25-34 years old','25-34 years old','25-34 years old','25-34 years old','25-34 years old','25-34 years old','25-34 years old','25-34 years old','25-34 years old','25-34 years old','25-34 years old','25-34 years old','25-34 years old','25-34 years old','25-34 years old','25-34 years old','25-34 years old','25-34 years old','25-34 years old','25-34 years old','Less than 18 years old','35-44 years old','35-44 years old','35-44 years old','35-44 years old','35-44 years old','35-44 years old','35-44 years old','35-44 years old','35-44 years old','35-44 years old','35-44 years old','35-44 years old','35-44 years old','35-44 years old','35-44 years old','35-44 years old','35-44 years old','35-44 years old','45-54 years old','45-54 years old','45-54 years old','45-54 years old','45-54 years old','45-54 years old','45-54 years old','45-54 years old','45-54 years old','45-54 years old','45-54 years old','45-54 years old','45-54 years old','55-64 years old','55-64 years old','55-64 years old','55-64 years old','55-64 years old','55-64 years old','55-64 years old','55-64 years old','55-64 years old','55-64 years old','55-64 years old','55-64 years old','65 years or older','65 years or older','65 years or older','65 years or older','65 years or older','65 years or older','65 years or older','65 years or older','65 years or older','65 years or older','65 years or older','65 years or older','65 years or older','65 years or older','65 years or older','65 years or older','65 years or older','65 years or older','65 years or older','65 years or older','65 years or older','65 years or older','65 years or older','65 years or older','65 years or older','65 years or older','65 years or older','65 years or older','65 years or older','65 years or older','65 years or older','65 years or older','65 years or older','65 years or older','65 years or older','65 years or older','65 years or older','Less than 18 years old','NA'],'Age')"
   ]
  },
  {
   "cell_type": "code",
   "execution_count": null,
   "metadata": {},
   "outputs": [],
   "source": [
    "#YearsCode\n",
    "Stack_DF=Stack_DF.na.replace(['1','2','3','4','5','6','7','8','9','10','11','12','13','14','15','16','17','18','19','20','21','22','23','24','25','26','27','28','29','30','31','32','33','34','35','36','37','38','39','40','41','42','43','44','45','46','47','48','49','50'],['Less than 1 year','2-5 years','2-5 years','2-5 years','2-5 years','6-10 years','6-10 years','6-10 years','6-10 years','6-10 years','11-15 years','11-15 years','11-15 years','11-15 years','11-15 years','16-20 years','16-20 years','16-20 years','16-20 years','16-20 years','21-25 years','21-25 years','21-25 years','21-25 years','21-25 years','26-30 years','26-30 years','26-30 years','26-30 years','26-30 years','31-35 years','31-35 years','31-35 years','31-35 years','31-35 years','36-40 years','36-40 years','36-40 years','36-40 years','36-40 years','41-45 years','41-45 years','41-45 years','41-45 years','41-45 years','46-50 years','46-50 years','46-50 years','46-50 years','46-50 years'],'YearsCode')"
   ]
  },
  {
   "cell_type": "code",
   "execution_count": null,
   "metadata": {},
   "outputs": [],
   "source": [
    "#YearsCodePro\n",
    "Stack_DF=Stack_DF.na.replace(['1','2','3','4','5','6','7','8','9','10','11','12','13','14','15','16','17','18','19','20','21','22','23','24','25','26','27','28','29','30','31','32','33','34','35','36','37','38','39','40','41','42','43','44','45','46','47','48','49','50'],['Less than 1 year','2-5 years','2-5 years','2-5 years','2-5 years','6-10 years','6-10 years','6-10 years','6-10 years','6-10 years','11-15 years','11-15 years','11-15 years','11-15 years','11-15 years','16-20 years','16-20 years','16-20 years','16-20 years','16-20 years','21-25 years','21-25 years','21-25 years','21-25 years','21-25 years','26-30 years','26-30 years','26-30 years','26-30 years','26-30 years','31-35 years','31-35 years','31-35 years','31-35 years','31-35 years','36-40 years','36-40 years','36-40 years','36-40 years','36-40 years','41-45 years','41-45 years','41-45 years','41-45 years','41-45 years','46-50 years','46-50 years','46-50 years','46-50 years','46-50 years'],'YearsCodePro')"
   ]
  },
  {
   "cell_type": "code",
   "execution_count": null,
   "metadata": {},
   "outputs": [],
   "source": [
    "#EdLevel\n",
    "Stack_DF=Stack_DF.na.replace(['Associate degree (A.A., A.S., etc.)','Bachelor’s degree (B.A., B.S., B.Eng., etc.)','Bachelor’s degree (BA, BS, B.Eng., etc.)','Master’s degree (M.A., M.S., M.Eng., MBA, etc.)','Master’s degree (MA, MS, M.Eng., MBA, etc.)','Other doctoral degree (Ph.D, Ed.D., etc.)','Other doctoral degree (Ph.D., Ed.D., etc.)','Primary/elementary school','Secondary school (e.g. American high school, German Realschule or Gymnasium, etc.)','Some college/university study without earning a degree','Professional degree (JD, MD, etc.)','Something else','I never completed any formal education'],['Associate degree','Bachelor’s degree','Bachelor’s degree','Master’s degree','Master’s degree','doctoral degree','doctoral degree','Student','Student','Student','Professional degree','NA','Unfinished formal education'],'EdLevel')"
   ]
  },
  {
   "cell_type": "code",
   "execution_count": null,
   "metadata": {},
   "outputs": [],
   "source": [
    "#Gender\n",
    "Stack_DF=Stack_DF.na.replace(['Woman;Man', 'Woman;Man;Non-binary, genderqueer, or gender non-conforming','Woman;Non-binary, genderqueer, or gender non-conforming','Woman;Non-binary, genderqueer, or gender non-conforming;Or, in your own words:','Woman;Or, in your own words:','Or, in your own words:;Woman;Non-binary, genderqueer, or gender non-conforming'], ['Other', 'Other', 'Other', 'Other', 'Other','Other'], 'Gender')"
   ]
  },
  {
   "cell_type": "code",
   "execution_count": null,
   "metadata": {},
   "outputs": [],
   "source": [
    "# MainBranch\n",
    "Stack_DF=Stack_DF.na.replace(['I am a developer by profession','I am a student who is learning to code','I code primarily as a hobby','I am not primarily a developer, but I write code sometimes as part of my work','I used to be a developer by profession, but no longer am'],['Professional','Student','Hobby','Code Sometimes','no longer developer'],'MainBranch')"
   ]
  },
  {
   "cell_type": "markdown",
   "metadata": {},
   "source": [
    "Part 4 "
   ]
  },
  {
   "cell_type": "code",
   "execution_count": null,
   "metadata": {},
   "outputs": [],
   "source": [
    "from pyspark.sql.types import IntegerType\n",
    "from pyspark.sql.functions import split, col\n",
    "from pyspark.sql.functions import regexp_replace"
   ]
  },
  {
   "cell_type": "code",
   "execution_count": null,
   "metadata": {},
   "outputs": [],
   "source": [
    "stk1 = Stack_DF.withColumn(\"RespondId\", col(\"ResponseId\").cast(IntegerType()).alias(\"RespondId\")).drop(\"ResponseId\")"
   ]
  },
  {
   "cell_type": "code",
   "execution_count": 1,
   "metadata": {},
   "outputs": [
    {
     "ename": "NameError",
     "evalue": "name 'stk1' is not defined",
     "output_type": "error",
     "traceback": [
      "\u001b[1;31m---------------------------------------------------------------------------\u001b[0m",
      "\u001b[1;31mNameError\u001b[0m                                 Traceback (most recent call last)",
      "\u001b[1;32md:\\CDAC\\Project\\Project_F.ipynb Cell 25\u001b[0m in \u001b[0;36m<cell line: 1>\u001b[1;34m()\u001b[0m\n\u001b[1;32m----> <a href='vscode-notebook-cell:/d%3A/CDAC/Project/Project_F.ipynb#X33sZmlsZQ%3D%3D?line=0'>1</a>\u001b[0m Stack_DF \u001b[39m=\u001b[39m stk1\u001b[39m.\u001b[39mwithColumnRenamed(\u001b[39m\"\u001b[39m\u001b[39mRespondId\u001b[39m\u001b[39m\"\u001b[39m,\u001b[39m\"\u001b[39m\u001b[39mResponseId\u001b[39m\u001b[39m\"\u001b[39m)\n\u001b[0;32m      <a href='vscode-notebook-cell:/d%3A/CDAC/Project/Project_F.ipynb#X33sZmlsZQ%3D%3D?line=1'>2</a>\u001b[0m Stack_DF\u001b[39m=\u001b[39mStack_DF\u001b[39m.\u001b[39mwithColumn(\u001b[39m'\u001b[39m\u001b[39mIndex\u001b[39m\u001b[39m'\u001b[39m,monotonically_increasing_id())\n\u001b[0;32m      <a href='vscode-notebook-cell:/d%3A/CDAC/Project/Project_F.ipynb#X33sZmlsZQ%3D%3D?line=2'>3</a>\u001b[0m Stack_DF\u001b[39m=\u001b[39mStack_DF\u001b[39m.\u001b[39mdrop(col(\u001b[39m'\u001b[39m\u001b[39mResponseId\u001b[39m\u001b[39m'\u001b[39m))\n",
      "\u001b[1;31mNameError\u001b[0m: name 'stk1' is not defined"
     ]
    }
   ],
   "source": [
    "from pyspark.sql.window import Window\n",
    "from pyspark.sql.functions import monotonically_increasing_id, row_number\n",
    "Stack_DF = stk1.withColumnRenamed(\"RespondId\",\"ResponseId\")\n",
    "Stack_DF=Stack_DF.withColumn('Index',monotonically_increasing_id())\n",
    "Stack_DF=Stack_DF.drop(col('ResponseId'))\n",
    "Stack_DF=Stack_DF.withColumnRenamed(\"Index\",\"ResponseId\")"
   ]
  },
  {
   "cell_type": "code",
   "execution_count": null,
   "metadata": {},
   "outputs": [],
   "source": [
    "LanguageHave = Stack_DF.select(col(\"ResponseId\"),split(col(\"LanguageHaveWorkedWith\"),\";\").alias(\"LanguageWorked\")).drop(\"LanguageHaveWorkedWith\")\n",
    "LanguageHave= LanguageHave.selectExpr('ResponseId','inline(arrays_zip(LanguageWorked))')\n",
    "LanguageHave = LanguageHave.where(LanguageHave.LanguageWorked != 'NA')"
   ]
  },
  {
   "cell_type": "code",
   "execution_count": null,
   "metadata": {},
   "outputs": [],
   "source": [
    "LanguageWant = Stack_DF.select(col(\"ResponseId\"),split(col(\"LanguageWantToWorkWith\"),\";\").alias(\"Language_Want\")).drop(\"LanguageWantToWorkWith\")\n",
    "LanguageWant = LanguageWant.selectExpr('ResponseId','inline(arrays_zip(Language_Want))')\n",
    "LanguageWant = LanguageWant.where(LanguageWant.Language_Want != 'NA')"
   ]
  },
  {
   "cell_type": "code",
   "execution_count": null,
   "metadata": {},
   "outputs": [],
   "source": [
    "DatabaseHave = Stack_DF.select(col(\"ResponseId\"),split(col(\"DatabaseHaveWorkedWith\"),\";\").alias(\"DatabaseHaveWork\")).drop(\"DatabaseHaveWorkedWith\")\n",
    "DatabaseHave = DatabaseHave.selectExpr('ResponseId','inline(arrays_zip(DatabaseHaveWork))')\n",
    "DatabaseHave = DatabaseHave.where(DatabaseHave.DatabaseHaveWork != 'NA')"
   ]
  },
  {
   "cell_type": "code",
   "execution_count": null,
   "metadata": {},
   "outputs": [],
   "source": [
    "DatabaseWant = Stack_DF.select(col(\"ResponseId\"),split(col(\"DatabaseWantToWorkWith\"),\";\").alias(\"DatabaseWant\")).drop(\"DatabaseWantToWorkWith\")\n",
    "DatabaseWant = DatabaseWant.selectExpr('ResponseId','inline(arrays_zip(DatabaseWant))')\n",
    "DatabaseWant = DatabaseWant.where(DatabaseWant.DatabaseWant != 'NA')"
   ]
  },
  {
   "cell_type": "code",
   "execution_count": null,
   "metadata": {},
   "outputs": [],
   "source": [
    "MiscTechHave = Stack_DF.select(col(\"ResponseId\"),split(col(\"MiscTechHaveWorkedWith\"),\";\").alias(\"MiscTechHave\")).drop(\"MiscTechHaveWorkedWith\")\n",
    "MiscTechHave = MiscTechHave.selectExpr('ResponseId','inline(arrays_zip(MiscTechHave))')\n",
    "MiscTechHave = MiscTechHave.where(MiscTechHave.MiscTechHave != 'NA')"
   ]
  },
  {
   "cell_type": "code",
   "execution_count": null,
   "metadata": {},
   "outputs": [],
   "source": [
    "MiscTechWant = Stack_DF.select(col(\"ResponseId\"),split(col(\"MiscTechWantToWorkWith\"),\";\").alias(\"MiscTechWant\")).drop(\"MiscTechWantToWorkWith\")\n",
    "MiscTechWant = MiscTechWant.selectExpr('ResponseId','inline(arrays_zip(MiscTechWant))')\n",
    "MiscTechWant = MiscTechWant.where(MiscTechWant.MiscTechWant != 'NA')"
   ]
  },
  {
   "cell_type": "code",
   "execution_count": null,
   "metadata": {},
   "outputs": [],
   "source": [
    "NEWCollabToolsHave = Stack_DF.select(col(\"ResponseId\"),split(col(\"NEWCollabToolsHaveWorkedWith\"),\";\").alias(\"NEWCollabToolsHave\")).drop(\"NEWCollabToolsHaveWorkedWith\")\n",
    "NEWCollabToolsHave = NEWCollabToolsHave.selectExpr('ResponseId','inline(arrays_zip(NEWCollabToolsHave))')\n",
    "NEWCollabToolsHave = NEWCollabToolsHave.where(NEWCollabToolsHave.NEWCollabToolsHave != \"Not Mentioned\",NEWCollabToolsHave.NEWCollabToolsHave != 'NA')\n"
   ]
  },
  {
   "cell_type": "code",
   "execution_count": null,
   "metadata": {},
   "outputs": [],
   "source": [
    "NEWCollabToolsHave = NEWCollabToolsHave.withColumn('NEWCollabToolsHave', regexp_replace('NEWCollabToolsHave', 'Google Suite (Docs, Meet, etc)', 'Google Suite'))\n"
   ]
  },
  {
   "cell_type": "code",
   "execution_count": null,
   "metadata": {},
   "outputs": [],
   "source": [
    "NEWCollabToolsWant = Stack_DF.select(col(\"ResponseId\"),split(col(\"NEWCollabToolsWantToWorkWith\"),\";\").alias(\"NEWCollabToolsWant\")).drop(\"NEWCollabToolsWantToWorkWith\")\n",
    "NEWCollabToolsWant = NEWCollabToolsWant.selectExpr('ResponseId','inline(arrays_zip(NEWCollabToolsWant))')\n",
    "NEWCollabToolsWant = NEWCollabToolsWant.where(NEWCollabToolsWant.NEWCollabToolsWant != \"Not Mentioned\",NEWCollabToolsWant.NEWCollabToolsWant != 'NA')\n"
   ]
  },
  {
   "cell_type": "code",
   "execution_count": null,
   "metadata": {},
   "outputs": [],
   "source": [
    "PlatformHave = Stack_DF.select(col(\"ResponseId\"),split(col(\"PlatformHaveWorkedWith\"),\";\").alias(\"PlatformHave\")).drop(\"PlatformHaveWorkedWith\")\n",
    "PlatformHave = PlatformHave.selectExpr('ResponseId','inline(arrays_zip(PlatformHave))')\n",
    "PlatformHave = PlatformHave.withColumn('PlatformHave', regexp_replace('PlatformHave', 'Google Cloud Platform', 'Google Cloud'))\n",
    "PlatformHave = PlatformHave.where(PlatformHave.PlatformHave != 'NA')"
   ]
  },
  {
   "cell_type": "code",
   "execution_count": null,
   "metadata": {},
   "outputs": [],
   "source": [
    "PlatformWant = Stack_DF.select(col(\"ResponseId\"),split(col(\"PlatformWantToWorkWith\"),\";\").alias(\"PlatformWant\")).drop(\"PlatformWantToWorkWith\")\n",
    "PlatformWant = PlatformWant.selectExpr('ResponseId','inline(arrays_zip(PlatformWant))')\n",
    "PlatformWant = PlatformWant.where(PlatformWant.PlatformWant != 'NA')"
   ]
  },
  {
   "cell_type": "code",
   "execution_count": null,
   "metadata": {},
   "outputs": [],
   "source": [
    "WebframeHave = Stack_DF.select(col(\"ResponseId\"),split(col(\"WebframeHaveWorkedWith\"),\";\").alias(\"WebframeHave\")).drop(\"WebframeHaveWorkedWith\")\n",
    "WebframeHave = WebframeHave.selectExpr('ResponseId','inline(arrays_zip(WebframeHave))')\n",
    "WebframeHave = WebframeHave.where(WebframeHave.WebframeHave != 'NA')"
   ]
  },
  {
   "cell_type": "code",
   "execution_count": null,
   "metadata": {},
   "outputs": [],
   "source": [
    "WebframeWant = Stack_DF.select(col(\"ResponseId\"),split(col(\"WebframeWantToWorkWith\"),\";\").alias(\"WebframeWant\")).drop(\"WebframeWantToWorkWith\")\n",
    "WebframeWant = WebframeWant.selectExpr('ResponseId','inline(arrays_zip(WebframeWant))')\n",
    "WebframeWant = WebframeWant.where(WebframeWant.WebframeWant != 'NA')"
   ]
  },
  {
   "cell_type": "code",
   "execution_count": null,
   "metadata": {},
   "outputs": [],
   "source": [
    "ToolsTechHave = Stack_DF.select(col(\"ResponseId\"),split(col(\"ToolsTechHaveWorkedWith\"),\";\").alias(\"ToolsTechHave\")).drop(\"ToolsTechHaveWorkedWith\")\n",
    "ToolsTechHave = ToolsTechHave.selectExpr('ResponseId','inline(arrays_zip(ToolsTechHave))')\n",
    "ToolsTechHave = ToolsTechHave.where(ToolsTechHave.ToolsTechHave != \"Not Mentioned\",ToolsTechHave.ToolsTechHave != 'NA')\n"
   ]
  },
  {
   "cell_type": "code",
   "execution_count": null,
   "metadata": {},
   "outputs": [],
   "source": [
    "ToolsTechWant = Stack_DF.select(col(\"ResponseId\"),split(col(\"ToolsTechWantToWorkWith\"),\";\").alias(\"ToolsTechWant\")).drop(\"ToolsTechWantToWorkWith\")\n",
    "ToolsTechWant = ToolsTechWant.selectExpr('ResponseId','inline(arrays_zip(ToolsTechWant))')\n",
    "ToolsTechWant = ToolsTechWant.where(ToolsTechWant.ToolsTechWant != \"Not Mentioned\",ToolsTechWant.ToolsTechWant != 'NA')\n"
   ]
  },
  {
   "cell_type": "code",
   "execution_count": null,
   "metadata": {},
   "outputs": [],
   "source": [
    "OpSys = Stack_DF.select(col(\"ResponseId\"),split(col(\"OpSys\"),\";\").alias(\"OperatingSys\")).drop(\"OpSys\")\n",
    "OpSys = OpSys.selectExpr('ResponseId','inline(arrays_zip(OperatingSys))')\n",
    "OpSys = OpSys.withColumn('OperatingSys', regexp_replace('OperatingSys', 'Windows Subsystem for Linux (WSL)', 'Linux (WSL)'))\n",
    "OpSys = OpSys.where(OpSys.OperatingSys != 'NA')"
   ]
  },
  {
   "cell_type": "code",
   "execution_count": null,
   "metadata": {},
   "outputs": [],
   "source": [
    "DevType = Stack_DF.select(col(\"ResponseId\"),split(col(\"DevType\"),\";\").alias(\"DeveloperTy\")).drop(\"DevType\")\n",
    "DevType = DevType.selectExpr('ResponseId','inline(arrays_zip(DeveloperTy))')\n",
    "DevType = DevType.where(DevType.DeveloperTy != 'NA')"
   ]
  },
  {
   "cell_type": "code",
   "execution_count": null,
   "metadata": {},
   "outputs": [],
   "source": [
    "Employment = Stack_DF.select(col(\"ResponseId\"),split(col(\"Employment\"),\";\").alias(\"EMP\")).drop(\"Employment\")\n",
    "Employment = Employment.selectExpr('ResponseId','inline(arrays_zip(EMP))')\n",
    "Employment = Employment.where(Employment.EMP != 'NA')"
   ]
  },
  {
   "cell_type": "code",
   "execution_count": null,
   "metadata": {},
   "outputs": [],
   "source": [
    "MentalHealth = Stack_DF.select(col(\"ResponseId\"),split(col(\"MentalHealth\"),\";\").alias(\"Mental_Health\")).drop(\"MentalHealth\")\n",
    "MentalHealth = MentalHealth.selectExpr('ResponseId','inline(arrays_zip(Mental_Health))')\n",
    "MentalHealth = MentalHealth.where(MentalHealth.Mental_Health != \"Not Mentioned\",MentalHealth.Mental_Health != 'NA')\n",
    "MentalHealth=MentalHealth.na.replace(['I have a concentration and/or memory disorder (e.g. ADHD)','I have a concentration and/or memory disorder (e.g., ADHD, etc.)',\"I have autism / an autism spectrum disorder (e.g. Asperger's)\",\"I have autism / an autism spectrum disorder (e.g. Asperger's, etc.)\",'emotional disorder (e.g. depression, bipolar disorder)','emotional disorder (e.g., depression, bipolar disorder, etc.)','I have learning differences (e.g., Dyslexic, Dyslexia, etc.)'],['Memory disorder','Memory disorder','Autism spectrum disorder','Autism spectrum disorder','Emotional disorder','Emotional disorder','Learning differences'],'Mental_Health')"
   ]
  },
  {
   "cell_type": "code",
   "execution_count": null,
   "metadata": {},
   "outputs": [],
   "source": [
    "LearnCode = Stack_DF.select(col(\"ResponseId\"),split(col(\"LearnCode\"),\";\").alias(\"Learn_Code\")).drop(\"LearnCode\")\n",
    "LearnCode = LearnCode.selectExpr('ResponseId','inline(arrays_zip(Learn_Code))')\n",
    "LearnCode = LearnCode.where(LearnCode.Learn_Code != 'Not Mentioned',LearnCode.Learn_Code != 'NA')"
   ]
  },
  {
   "cell_type": "code",
   "execution_count": null,
   "metadata": {},
   "outputs": [],
   "source": [
    "LanguageHave.coalesce(1).write.csv(\"s3://project-23-2022/Stack_DFs/LanguageHave.csv\",header=True)\n",
    "LanguageWant.coalesce(1).write.csv(\"s3://project-23-2022/Stack_DFs/LanguageWant.csv\",header=True)\n",
    "\n",
    "DatabaseHave.coalesce(1).write.csv(\"s3://project-23-2022/Stack_DFs/DatabaseHave.csv\",header=True)\n",
    "DatabaseWant.coalesce(1).write.csv(\"s3://project-23-2022/Stack_DFs/DatabaseWant.csv\",header=True)\n",
    "\n",
    "MiscTechHave.coalesce(1).write.csv(\"s3://project-23-2022/Stack_DFs/MiscTechHave.csv\",header=True)\n",
    "MiscTechWant.coalesce(1).write.csv(\"s3://project-23-2022/Stack_DFs/MiscTechWant.csv\",header=True)\n",
    "\n",
    "NEWCollabToolsWant.coalesce(1).write.csv(\"s3://project-23-2022/Stack_DFs/NEWCollabToolsWant.csv\",header=True)\n",
    "NEWCollabToolsHave.coalesce(1).write.csv(\"s3://project-23-2022/Stack_DFs/NEWCollabToolsHave.csv\",header=True)\n",
    "\n",
    "PlatformHave.coalesce(1).write.csv(\"s3://project-23-2022/Stack_DFs/PlatformHave.csv\",header=True)\n",
    "PlatformWant.coalesce(1).write.csv(\"s3://project-23-2022/Stack_DFs/PlatformWant.csv\",header=True)\n",
    "\n",
    "ToolsTechHave.coalesce(1).write.csv(\"s3://project-23-2022/Stack_DFs/ToolsTechHave.csv\",header=True)\n",
    "ToolsTechWant.coalesce(1).write.csv(\"s3://project-23-2022/Stack_DFs/ToolsTechWant.csv\",header=True)\n",
    "\n",
    "WebframeHave.coalesce(1).write.csv(\"s3://project-23-2022/Stack_DFs/WebframeHave.csv\",header=True)\n",
    "WebframeWant.coalesce(1).write.csv(\"s3://project-23-2022/Stack_DFs/WebframeWant.csv\",header=True)\n",
    "\n",
    "OpSys.coalesce(1).write.csv(\"s3://project-23-2022/Stack_DFs/OpSys.csv\",header=True)\n",
    "DevType.coalesce(1).write.csv(\"s3://project-23-2022/Stack_DFs/DevType.csv\",header=True)\n",
    "\n",
    "MentalHealth.coalesce(1).write.csv(\"s3://project-23-2022/Stack_DFs/MentalHealth.csv\",header=True)\n",
    "\n",
    "Employment.coalesce(1).write.csv(\"s3://project-23-2022/Stack_DFs/Employment.csv\",header=True)\n",
    "\n",
    "LearnCode.coalesce(1).write.csv(\"s3://project-23-2022/Stack_DFs/LearnCode.csv\",header=True)"
   ]
  },
  {
   "cell_type": "code",
   "execution_count": null,
   "metadata": {},
   "outputs": [],
   "source": [
    "\n",
    "Stack_DF=Stack_DF.drop(col('Employment','DevType','DatabaseHaveWorkedWith','DatabaseWantToWorkWith','LanguageHaveWorkedWith','LanguageWantToWorkWith','MiscTechHaveWorkedWith','MiscTechWantToWorkWith','NEWCollabToolsHaveWorkedWith','NEWCollabToolsWantToWorkWith','PlatformHaveWorkedWith','PlatformWantToWorkWith','ToolsTechHaveWorkedWith','ToolsTechWantToWorkWith','WebframeHaveWorkedWith','WebframeWantToWorkWith','OpSys'))\n",
    "Stack_DF.coalesce(1).write.csv(\"s3://project-23-2022/Stack_DFs/Stack_DF.csv\",header=True)"
   ]
  }
 ],
 "metadata": {
  "kernelspec": {
   "display_name": "Python 3.10.4 64-bit",
   "language": "python",
   "name": "python3"
  },
  "language_info": {
   "codemirror_mode": {
    "name": "ipython",
    "version": 3
   },
   "file_extension": ".py",
   "mimetype": "text/x-python",
   "name": "python",
   "nbconvert_exporter": "python",
   "pygments_lexer": "ipython3",
   "version": "3.10.4"
  },
  "orig_nbformat": 4,
  "vscode": {
   "interpreter": {
    "hash": "1804217a9e3f405f6b513f0cbd46e14aaee02e36ae3f45704d855b5ebf500c25"
   }
  }
 },
 "nbformat": 4,
 "nbformat_minor": 2
}
